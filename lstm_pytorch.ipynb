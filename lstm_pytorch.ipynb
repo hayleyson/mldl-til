{
  "nbformat": 4,
  "nbformat_minor": 0,
  "metadata": {
    "colab": {
      "provenance": [],
      "toc_visible": true
    },
    "kernelspec": {
      "name": "python3",
      "display_name": "Python 3"
    },
    "language_info": {
      "name": "python"
    }
  },
  "cells": [
    {
      "cell_type": "markdown",
      "source": [
        "# Implementation of lstm from scratch in PyTorch\n",
        "\n",
        "Reference: https://towardsdatascience.com/building-a-lstm-by-hand-on-pytorch-59c02a4ec091"
      ],
      "metadata": {
        "id": "FFEZ_fVGs9EO"
      }
    },
    {
      "cell_type": "code",
      "execution_count": 1,
      "metadata": {
        "id": "Xlgfk59iYc96"
      },
      "outputs": [],
      "source": [
        "import math\n",
        "import torch\n",
        "import torch.nn as nn"
      ]
    },
    {
      "cell_type": "markdown",
      "source": [
        "### LSTM w/o vectorization"
      ],
      "metadata": {
        "id": "QIXxtm5s1KSX"
      }
    },
    {
      "cell_type": "code",
      "source": [
        "class NaiveCustomLSTM(nn.Module):\n",
        "  def __init__(self, input_sz: int, hidden_sz: int):\n",
        "    super().__init__()\n",
        "    self.input_size = input_sz\n",
        "    self.hidden_size = hidden_sz\n",
        "\n",
        "    #i_t \n",
        "                # nn.Parameter : special subclass of Tensor that's, when\n",
        "                # assigned as module attribute, registered as module parameters\n",
        "                # so it's included in module.parameters() iterator\n",
        "    self.U_i = nn.Parameter(torch.Tensor(self.input_size, self.hidden_size))\n",
        "    self.V_i = nn.Paramater(torch.Tensor(self.hidden_size, self.hidden_size))\n",
        "    self.b_i = nn.Parameter(torch.Tensor(hidden_sz))\n",
        "\n",
        "    # f_t\n",
        "    self.U_f = nn.Parameter(torch.Tensor(input_sz, hidden_sz))\n",
        "    self.V_f = nn.Parameter(torch.Tensor(hidden_sz, hidden_sz))\n",
        "    self.b_f = nn.Parameter(torch.Tensor(hidden_sz))\n",
        "\n",
        "    #c_t\n",
        "    self.U_c = nn.Parameter(torch.Tensor(input_sz, hidden_sz))\n",
        "    self.V_c = nn.Parameter(torch.Tensor(hidden_sz, hidden_sz))\n",
        "    self.b_c = nn.Parameter(torch.Tensor(hidden_sz))\n",
        "\n",
        "    #o_t\n",
        "    self.U_o = nn.Parameter(torch.Tensor(input_sz, hidden_sz))\n",
        "    self.V_o = nn.Parameter(torch.Tensor(hidden_sz, hidden_sz))\n",
        "    self.b_o = nn.Parameter(torch.Tensor(hidden_sz))\n",
        "\n",
        "    self.init_weights() # defined below\n",
        "\n",
        "  def init_weights(self):\n",
        "    # xavier initialization (suitable for sigmoid or tanh)\n",
        "    # https://machinelearningmastery.com/weight-initialization-for-deep-learning-neural-networks/\n",
        "    # pytorch implementation does the following as well\n",
        "    # https://pytorch.org/docs/stable/generated/torch.nn.LSTM.html\n",
        "    stdv = 1.0 / math.sqrt(self.hidden_size)\n",
        "    for weight in self.parameters():\n",
        "      weight.data.uniform_(-stdv, stdv)\n",
        "\n",
        "  def forward(self, x, init_states=None):\n",
        "    bs, seq_sz, _ = x.size() # use .size() to get shape\n",
        "    hidden_seq = []\n",
        "\n",
        "    if init_states is None:\n",
        "      h_t, c_t = (\n",
        "          torch.zeros(bs, self.hidden_size).to(x.device),\n",
        "          torch.zeros(bs, self.hidden_size).to(x.device)\n",
        "      )\n",
        "    else:\n",
        "      h_t, c_t = init_states\n",
        "\n",
        "    for t in range(seq_sz): # for loop over timesteps (in the same batch, seq_sz must be the same....)\n",
        "      x_t = x[:, t, :] # of shape (bs, #feature)\n",
        "                      # if you index along one axis, the dimension decreases to 2d\n",
        "\n",
        "      i_t = torch.sigmoid(x_t @ self.U_i + h_t @ self.V_i + self.b_i) # input gate\n",
        "      f_t = torch.sigmoid(x_t @ self.U_f + h_t @ self.V_f + self.b_f) # forget gate\n",
        "      g_t = torch.tanh(x_t @ self.U_c + h_t @ self.V_c + self.b_c) # gate gate\n",
        "      o_t = torch.sigmoid(x_t @ self.U_o + h_t @ self.V_o + self.b_o) # output gate\n",
        "      c_t = f_t * c_t + i_t * g_t # update cell state (f_t * c_t-1 + i_t * g_t)\n",
        "      h_t = o_t * torch.tanh(c_t)  # shape: (bs, hidden)\n",
        "\n",
        "      hidden_seq.append(h_t.unsqueeze(0)) # shape (1, bs, hidden) \n",
        "                        # -> if not add dim, after torch.cat, the shape will be (t*bs, hidden) \n",
        "                        # which we don't want.\n",
        "                        # https://pytorch.org/docs/stable/generated/torch.cat.html#torch-cat\n",
        "\n",
        "    hidden_seq = torch.cat(hidden_seq, dim=0) # (t, bs, hidden)\n",
        "    hidden_seq = hidden_seq.transpose(0, 1).contiguous() # (bs, t, hidden) # why use contiguous? unclear.\n",
        "    return hidden_seq, (h_t, c_t) # hidden for each timestamp, (final hidden, final cell state)"
      ],
      "metadata": {
        "id": "n5_09MA3YnQ6"
      },
      "execution_count": 8,
      "outputs": []
    },
    {
      "cell_type": "markdown",
      "source": [
        "### LSTM w/ vectorization"
      ],
      "metadata": {
        "id": "4hU2Yqju1Rp2"
      }
    },
    {
      "cell_type": "code",
      "source": [
        "class CustomLSTM(nn.Module):\n",
        "  def __init__(self, input_sz, hidden_sz):\n",
        "    super().__init__()\n",
        "    self.input_sz = input_sz\n",
        "    self.hidden_size = hidden_sz\n",
        "    self.W = nn.Parameter(torch.Tensor(input_sz, hidden_sz * 4))\n",
        "    self.U = nn.Parameter(torch.Tensor(hidden_sz, hidden_sz * 4))\n",
        "    self.bias = nn.Parameter(torch.Tensor(hidden_sz * 4))\n",
        "    self.init_weights()\n",
        "\n",
        "  def init_weights(self):\n",
        "    stdv = 1.0 / math.sqrt(self.hidden_size)\n",
        "    for weight in self.parameters():\n",
        "      weight.data.uniform_(-stdv, stdv)\n",
        "  \n",
        "  def forward(self, x, init_states = None):\n",
        "    bs, seq_sz, _ = x.size() \n",
        "    hidden_seq = []\n",
        "    if init_states is None:\n",
        "      h_t, c_t = (torch.zeros(bs, self.hidden_size).to(x.device),\n",
        "                  torch.zeros(bs, self.hidden_size).to(x.device))\n",
        "    else:\n",
        "      h_t, c_t = init_states\n",
        "    \n",
        "    HS = self.hidden_size\n",
        "    for t in range(seq_sz):\n",
        "      x_t = x[:, t, :]\n",
        "\n",
        "      # batch computation\n",
        "      gates = x_t @ self.W + h_t @ self.U + self.bias\n",
        "      i_t, f_t, g_t, o_t = (\n",
        "          torch.sigmoid(gates[:, :HS]),\n",
        "          torch.sigmoid(gates[:, HS:HS*2]),\n",
        "          torch.tanh(gates[:, HS*2: HS*3]),\n",
        "          torch.sigmoid(gates[:, HS*3:]),\n",
        "      )\n",
        "      c_t = f_t * c_t + i_t * g_t\n",
        "      h_t = o_t * torch.tanh(c_t)\n",
        "      hidden_seq.append(h_t.unsqueeze(0))\n",
        "    hidden_seq = torch.cat(hidden_seq, dim=0) # (t, batch_size, feature)\n",
        "    hidden_seq = hidden_seq.transpose(0, 1).contiguous() # (batch_size, t, feature)\n",
        "    return hidden_seq, (h_t, c_t)"
      ],
      "metadata": {
        "id": "tc7MguXndJTs"
      },
      "execution_count": 14,
      "outputs": []
    },
    {
      "cell_type": "markdown",
      "source": [
        "### bidirectional LSTM w/ vectorization"
      ],
      "metadata": {
        "id": "BNizE-Lp1VoB"
      }
    },
    {
      "cell_type": "code",
      "source": [
        "# bidirectional version\n",
        "class BiCustomLSTM(nn.Module):\n",
        "  def __init__(self, input_sz, hidden_sz):\n",
        "    super(BiCustomLSTM, self).__init__()\n",
        "    ## hidden_size, emb_size\n",
        "    self.input_size = input_sz\n",
        "    self.hidden_size = hidden_sz\n",
        "    # should there be 2 sets of U, V, b? -> two sets? b/c forward and backward relation must be diff.\n",
        "    self.Uf = nn.Parameter(torch.Tensor(input_sz, hidden_sz * 4))\n",
        "    self.Ub = nn.Parameter(torch.Tensor(input_sz, hidden_sz * 4))\n",
        "    self.Vf = nn.Parameter(torch.Tensor(hidden_sz, hidden_sz * 4))\n",
        "    self.Vb = nn.Parameter(torch.Tensor(hidden_sz, hidden_sz * 4))\n",
        "    self.bf = nn.Parameter(torch.Tensor(hidden_sz*4))\n",
        "    self.bb = nn.Parameter(torch.Tensor(hidden_sz*4))\n",
        "\n",
        "    self.init_weights()\n",
        "\n",
        "  def init_weights(self):\n",
        "    stdv = 1.0 / math.sqrt(self.hidden_size) \n",
        "    for weight in self.parameters():\n",
        "      weight.data.uniform_(-stdv, stdv) # syntax to initialize parameters\n",
        "    \n",
        "  def forward(self, x, init_states = None):\n",
        "    bs, seq_sz, _ = x.size()\n",
        "\n",
        "    hidden_seq_f = []\n",
        "    hidden_seq_b = []\n",
        "\n",
        "    if init_states is None:\n",
        "      hf_t, cf_t, hb_t, cb_t = (\n",
        "          torch.zeros(bs, self.hidden_size).to(x.device),\n",
        "          torch.zeros(bs, self.hidden_size).to(x.device),\n",
        "          torch.zeros(bs, self.hidden_size).to(x.device),\n",
        "          torch.zeros(bs, self.hidden_size).to(x.device)\n",
        "      )\n",
        "    else:\n",
        "      (hf_t, hb_t), (cf_t, cb_t) = init_states\n",
        "\n",
        "    for t in range(seq_sz):\n",
        "      x_t = x[:, t, :] \n",
        "      gates = x_t @ self.Uf + hf_t @ self.Vf + self.bf\n",
        "      i_t = torch.sigmoid(gates[:, :self.hidden_size])\n",
        "      f_t = torch.sigmoid(gates[:, self.hidden_size: 2*self.hidden_size])\n",
        "      g_t = torch.tanh(gates[:, 2*self.hidden_size:3*self.hidden_size])\n",
        "      o_t = torch.sigmoid(gates[:, 3*self.hidden_size])\n",
        "\n",
        "      cf_t = f_t * cf_t + i_t * g_t\n",
        "      hf_t = o_t * torch.tanh(cf_t) # (bs, hidden)\n",
        "\n",
        "      hidden_seq_f.append(hf_t.unsqueeze(0))\n",
        "\n",
        "    hidden_seq_f = torch.cat(hidden_seq_f, axis=0) # (t, bs, hidden)\n",
        "\n",
        "    for t in range(seq_sz-1, -1, -1):\n",
        "      x_t = x[:, t, :]\n",
        "      gates = x_t @ self.Ub + hb_t @ self.Vb + self.bb\n",
        "      i_t = torch.sigmoid(gates[:, :self.hidden_size])\n",
        "      f_t = torch.sigmoid(gates[:, self.hidden_size: 2*self.hidden_size])\n",
        "      g_t = torch.tanh(gates[:, 2*self.hidden_size:3*self.hidden_size])\n",
        "      o_t = torch.sigmoid(gates[:, 3*self.hidden_size])\n",
        "\n",
        "      cb_t = f_t * cb_t + i_t * g_t\n",
        "      hb_t = o_t * torch.tanh(cb_t) # (bs, hidden)\n",
        "\n",
        "      hidden_seq_b.append(hb_t.unsqueeze(0)) \n",
        "\n",
        "    hidden_seq_b = torch.cat(hidden_seq_b[::-1], dim=0) # (t, bs, hidden) \n",
        "                                                        # [::-1] to align timesteps with forward direction\n",
        "                                                        # (0,1, ..., t)\n",
        "\n",
        "    hidden_seq = torch.cat([hidden_seq_f, hidden_seq_b], dim=-1) # (t, bs, hidden*2)\n",
        "    hidden_seq = hidden_seq.transpose(1, 0).contiguous() # permute vs transpose\n",
        "                      # transpose: indicate dim1, dim2 and swap dim1 and dim2\n",
        "                      # permute: indicate a tuple of desired ordering of dimensions\n",
        "                      #          must include all dimensions (1, 0, 2) if swapping 0th and 1th dim.\n",
        "\n",
        "    h_t = torch.cat([hf_t, hb_t], dim=-1) # (bs, hidden*2)\n",
        "    c_t = torch.cat([cf_t, cb_t], dim=-1) # (bs, hidden*2)\n",
        "\n",
        "    return hidden_seq, (h_t, c_t)"
      ],
      "metadata": {
        "id": "mhuToRlhkSeO"
      },
      "execution_count": 37,
      "outputs": []
    },
    {
      "cell_type": "code",
      "source": [
        "# let's try it out!\n",
        "x = torch.Tensor([10, 20, 30, 12]).long().unsqueeze(0)\n",
        "emb = nn.Embedding(50, 10)\n",
        "x = emb(x)\n",
        "lstm = CustomLSTM(10, 5)\n",
        "hiddens, (h_fin, c_fin) = lstm(x)"
      ],
      "metadata": {
        "id": "R33b1kUzxK_x"
      },
      "execution_count": 24,
      "outputs": []
    },
    {
      "cell_type": "code",
      "source": [
        "x.size()"
      ],
      "metadata": {
        "colab": {
          "base_uri": "https://localhost:8080/"
        },
        "id": "5JOoBcLAxsy5",
        "outputId": "e8ac0210-3a00-48d5-b5d5-6720aedb8215"
      },
      "execution_count": 25,
      "outputs": [
        {
          "output_type": "execute_result",
          "data": {
            "text/plain": [
              "torch.Size([1, 4, 10])"
            ]
          },
          "metadata": {},
          "execution_count": 25
        }
      ]
    },
    {
      "cell_type": "code",
      "source": [
        "print(lstm)"
      ],
      "metadata": {
        "colab": {
          "base_uri": "https://localhost:8080/"
        },
        "id": "kdya8VWpyZpM",
        "outputId": "b42b3886-cac1-4771-8dc0-87e287f72ec3"
      },
      "execution_count": 26,
      "outputs": [
        {
          "output_type": "stream",
          "name": "stdout",
          "text": [
            "CustomLSTM()\n"
          ]
        }
      ]
    },
    {
      "cell_type": "code",
      "source": [
        "hiddens.size()"
      ],
      "metadata": {
        "colab": {
          "base_uri": "https://localhost:8080/"
        },
        "id": "OHWPBR1Gyf5f",
        "outputId": "b095f27e-5310-44cb-ca70-323d39a3b2af"
      },
      "execution_count": 27,
      "outputs": [
        {
          "output_type": "execute_result",
          "data": {
            "text/plain": [
              "torch.Size([1, 4, 5])"
            ]
          },
          "metadata": {},
          "execution_count": 27
        }
      ]
    },
    {
      "cell_type": "code",
      "source": [
        "h_fin"
      ],
      "metadata": {
        "colab": {
          "base_uri": "https://localhost:8080/"
        },
        "id": "mbPVmMxUypR7",
        "outputId": "e5ab27cb-7222-4456-d873-50ed248b239a"
      },
      "execution_count": 28,
      "outputs": [
        {
          "output_type": "execute_result",
          "data": {
            "text/plain": [
              "tensor([[-0.1585, -0.1943,  0.1581, -0.0865, -0.0030]], grad_fn=<MulBackward0>)"
            ]
          },
          "metadata": {},
          "execution_count": 28
        }
      ]
    },
    {
      "cell_type": "code",
      "source": [
        "c_fin"
      ],
      "metadata": {
        "colab": {
          "base_uri": "https://localhost:8080/"
        },
        "id": "TSaBc7fdytZF",
        "outputId": "4d31c016-b160-4596-d040-36055a72d118"
      },
      "execution_count": 29,
      "outputs": [
        {
          "output_type": "execute_result",
          "data": {
            "text/plain": [
              "tensor([[-0.3514, -0.3162,  0.3134, -0.1480, -0.0099]], grad_fn=<AddBackward0>)"
            ]
          },
          "metadata": {},
          "execution_count": 29
        }
      ]
    },
    {
      "cell_type": "code",
      "source": [
        "hiddens"
      ],
      "metadata": {
        "colab": {
          "base_uri": "https://localhost:8080/"
        },
        "id": "9Qvmz5h9yz6M",
        "outputId": "48375da1-39d4-473a-8334-7e0d7885faaa"
      },
      "execution_count": 30,
      "outputs": [
        {
          "output_type": "execute_result",
          "data": {
            "text/plain": [
              "tensor([[[-0.0299, -0.0535, -0.1645,  0.2020, -0.0797],\n",
              "         [-0.0626, -0.1986, -0.0399,  0.0957, -0.1124],\n",
              "         [ 0.0499, -0.3435,  0.0904,  0.3283, -0.0740],\n",
              "         [-0.1585, -0.1943,  0.1581, -0.0865, -0.0030]]],\n",
              "       grad_fn=<TransposeBackward0>)"
            ]
          },
          "metadata": {},
          "execution_count": 30
        }
      ]
    },
    {
      "cell_type": "code",
      "source": [
        "# let's try it out!\n",
        "x = torch.Tensor([10, 20, 30, 12]).long().unsqueeze(0)\n",
        "emb = nn.Embedding(50, 10)\n",
        "x = emb(x)\n",
        "bilstm = BiCustomLSTM(10, 5)\n",
        "hiddens, (h_fin, c_fin) = bilstm(x)"
      ],
      "metadata": {
        "id": "8AiAD3Jay1WC"
      },
      "execution_count": 38,
      "outputs": []
    },
    {
      "cell_type": "code",
      "source": [
        "hiddens.size() "
      ],
      "metadata": {
        "colab": {
          "base_uri": "https://localhost:8080/"
        },
        "id": "dEDWHCOezDuG",
        "outputId": "267efc5d-f9c8-44d3-f701-15ed9f4211a5"
      },
      "execution_count": 45,
      "outputs": [
        {
          "output_type": "execute_result",
          "data": {
            "text/plain": [
              "torch.Size([1, 4, 10])"
            ]
          },
          "metadata": {},
          "execution_count": 45
        }
      ]
    },
    {
      "cell_type": "code",
      "source": [
        "h_fin.size()"
      ],
      "metadata": {
        "colab": {
          "base_uri": "https://localhost:8080/"
        },
        "id": "sOZeQSyf0Ekg",
        "outputId": "6244d537-cb60-44cb-de24-5602551da021"
      },
      "execution_count": 44,
      "outputs": [
        {
          "output_type": "execute_result",
          "data": {
            "text/plain": [
              "torch.Size([1, 10])"
            ]
          },
          "metadata": {},
          "execution_count": 44
        }
      ]
    },
    {
      "cell_type": "code",
      "source": [
        "c_fin.size()"
      ],
      "metadata": {
        "colab": {
          "base_uri": "https://localhost:8080/"
        },
        "id": "aMOefw300IPB",
        "outputId": "264d02b0-8318-4d68-e406-ca8ee90e5047"
      },
      "execution_count": 43,
      "outputs": [
        {
          "output_type": "execute_result",
          "data": {
            "text/plain": [
              "torch.Size([1, 10])"
            ]
          },
          "metadata": {},
          "execution_count": 43
        }
      ]
    },
    {
      "cell_type": "code",
      "source": [
        "hiddens[:,-1,:5], hiddens[:, 0, 5:]"
      ],
      "metadata": {
        "colab": {
          "base_uri": "https://localhost:8080/"
        },
        "id": "hM1w4PcB0KFU",
        "outputId": "1b70f78c-f7c5-44e0-f692-a272c6040804"
      },
      "execution_count": 49,
      "outputs": [
        {
          "output_type": "execute_result",
          "data": {
            "text/plain": [
              "(tensor([[-0.3111, -0.4424, -0.0711, -0.5527, -0.4322]],\n",
              "        grad_fn=<SliceBackward0>),\n",
              " tensor([[ 0.0270, -0.0345, -0.2361, -0.0316, -0.0786]],\n",
              "        grad_fn=<SliceBackward0>))"
            ]
          },
          "metadata": {},
          "execution_count": 49
        }
      ]
    },
    {
      "cell_type": "code",
      "source": [
        "h_fin"
      ],
      "metadata": {
        "colab": {
          "base_uri": "https://localhost:8080/"
        },
        "id": "tU1EMZ1Q0PcA",
        "outputId": "29c9e0ea-dab3-472b-980d-f6e6bd7469d3"
      },
      "execution_count": 48,
      "outputs": [
        {
          "output_type": "execute_result",
          "data": {
            "text/plain": [
              "tensor([[-0.3111, -0.4424, -0.0711, -0.5527, -0.4322,  0.0270, -0.0345, -0.2361,\n",
              "         -0.0316, -0.0786]], grad_fn=<CatBackward0>)"
            ]
          },
          "metadata": {},
          "execution_count": 48
        }
      ]
    },
    {
      "cell_type": "code",
      "source": [],
      "metadata": {
        "id": "i5SlH83E0TbJ"
      },
      "execution_count": null,
      "outputs": []
    }
  ]
}